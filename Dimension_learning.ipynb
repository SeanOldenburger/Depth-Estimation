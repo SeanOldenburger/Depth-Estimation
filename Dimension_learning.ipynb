{
 "cells": [
  {
   "cell_type": "markdown",
   "id": "southeast-temple",
   "metadata": {
    "heading_collapsed": "true"
   },
   "source": [
    "## Imports:"
   ]
  },
  {
   "cell_type": "code",
   "execution_count": null,
   "id": "experimental-chart",
   "metadata": {},
   "outputs": [],
   "source": [
    "import numpy as np\n",
    "import torch\n",
    "import matplotlib.pyplot as plt\n",
    "import cv2\n",
    "import math"
   ]
  },
  {
   "cell_type": "markdown",
   "id": "national-muscle",
   "metadata": {
    "heading_collapsed": "true"
   },
   "source": [
    "## My x and z function:"
   ]
  },
  {
   "cell_type": "code",
   "execution_count": null,
   "id": "varying-removal",
   "metadata": {},
   "outputs": [],
   "source": [
    "# finding in the x direction: (finding y direction will be slightly different)\n",
    "\n",
    "# x1 and x2 are the x left and x right point of an object in 1 image\n",
    "\n",
    "def xreal(depth, f, x1, x2, image, FOV):\n",
    "    h,w,_ = image.shape\n",
    "    mid = w/2\n",
    "    \n",
    "    thetal = ((np.sqrt((mid-x1)**2))/w)*FOV\n",
    "    thetar = ((np.sqrt((mid-x2)**2))/w)*FOV\n",
    "              \n",
    "    xl = f*math.tan(thetal)\n",
    "    xr = f*math.tan(thetar)\n",
    "    \n",
    "    if x2 <= mid:\n",
    "        print(\"Used Equation 1 (Object left)\")\n",
    "        xlens = xl-xr\n",
    "    elif x1 >= mid:\n",
    "        print(\"Used Equation 2 (Object right)\")\n",
    "        xlens = xr-xl\n",
    "    else:\n",
    "        print(\"Used Equation 3 (Object centralized)\")\n",
    "        xlens = xl+xr\n",
    "    \n",
    "    x = ((depth + f)*xlens)/f\n",
    "    \n",
    "    return x"
   ]
  },
  {
   "cell_type": "code",
   "execution_count": null,
   "id": "social-citizenship",
   "metadata": {},
   "outputs": [],
   "source": [
    "#  this x11 and x12 are the same x point in the left and right image\n",
    "\n",
    "def zreal(f, b, FOV, x11, x12, image):\n",
    "    h,w,_ = image.shape\n",
    "    mid = w/2\n",
    "    \n",
    "    thetal = ((np.sqrt((mid-x11)**2))/w)*FOV\n",
    "    thetar = ((np.sqrt((mid-x12)**2))/w)*FOV\n",
    "              \n",
    "    xl = f*math.tan(thetal)\n",
    "    xr = f*math.tan(thetar)\n",
    "    \n",
    "    if x11 <= mid and x12 <= mid:\n",
    "        print(\"Used Equation 1 (Point left)\")\n",
    "        x = b + xl - xr\n",
    "    elif x12 >= mid and x11 >= mid:\n",
    "        print(\"Used Equation 2 (Point right)\")\n",
    "        x = b - xl + xr\n",
    "    else:\n",
    "        print(\"Used Equation 3 (Point centralized)\")\n",
    "        x = b - xl - xr\n",
    "    \n",
    "    z = f/((b/x)-1)\n",
    "    \n",
    "    return z"
   ]
  },
  {
   "cell_type": "markdown",
   "id": "rubber-knowing",
   "metadata": {
    "heading_collapsed": "true"
   },
   "source": [
    "## Found x and z functions:"
   ]
  },
  {
   "cell_type": "code",
   "execution_count": null,
   "id": "impressive-barbados",
   "metadata": {},
   "outputs": [],
   "source": [
    "def foundz(b, f, x11, x12):\n",
    "    z = (b*f*190)/(np.sqrt((x11-x12)**2))\n",
    "    return z"
   ]
  },
  {
   "cell_type": "code",
   "execution_count": null,
   "id": "meaning-break",
   "metadata": {},
   "outputs": [],
   "source": [
    "def foundx(f, z, x1, x2):\n",
    "    x = ((np.sqrt((x1-x2)**2))/(f*210))*z\n",
    "    return x"
   ]
  },
  {
   "cell_type": "markdown",
   "id": "signal-homework",
   "metadata": {
    "heading_collapsed": "true"
   },
   "source": [
    "## Main:"
   ]
  },
  {
   "cell_type": "code",
   "execution_count": null,
   "id": "tamil-tribune",
   "metadata": {},
   "outputs": [],
   "source": [
    "# load images in\n",
    "pairnumber = 3\n",
    "imagel = cv2.imread(\"depth_testing/ImagePair{}-l.png\".format(pairnumber))\n",
    "imager = cv2.imread(\"depth_testing/ImagePair{}-r.png\".format(pairnumber))\n",
    "\n",
    "fig,ax = plt.subplots(1,2,figsize=(20,20))\n",
    "\n",
    "ax[0].imshow(imagel)\n",
    "ax[1].imshow(imager)\n",
    "plt.show()"
   ]
  },
  {
   "cell_type": "code",
   "execution_count": null,
   "id": "proud-roads",
   "metadata": {},
   "outputs": [],
   "source": [
    "x11 = 300\n",
    "x12 = 390\n",
    "\n",
    "x21 = 250\n",
    "x22 = 340\n",
    "\n",
    "fig,ax = plt.subplots(1,2,figsize=(20,20))\n",
    "ax[0].imshow(imagel[100:300,x11:x12])\n",
    "ax[1].imshow(imager[100:300,x21:x22])\n",
    "plt.show()"
   ]
  },
  {
   "cell_type": "code",
   "execution_count": null,
   "id": "affiliated-powder",
   "metadata": {},
   "outputs": [],
   "source": [
    "depth = 200\n",
    "f = 1.93\n",
    "FOV = 1.59174 # 91.2 degrees\n",
    "b = 49.9465"
   ]
  },
  {
   "cell_type": "code",
   "execution_count": null,
   "id": "sealed-startup",
   "metadata": {},
   "outputs": [],
   "source": [
    "# my x\n",
    "x = xreal(depth, f, x11, x12, imager, FOV)\n",
    "print(x)"
   ]
  },
  {
   "cell_type": "code",
   "execution_count": null,
   "id": "british-girlfriend",
   "metadata": {},
   "outputs": [],
   "source": [
    "# my z\n",
    "z = zreal(f, b, FOV, x12, x22, imager)\n",
    "print(z)"
   ]
  },
  {
   "cell_type": "code",
   "execution_count": null,
   "id": "after-arabic",
   "metadata": {},
   "outputs": [],
   "source": [
    "# found x\n",
    "x = foundx(f, depth, x11, x12)\n",
    "print(x)"
   ]
  },
  {
   "cell_type": "code",
   "execution_count": null,
   "id": "rocky-polyester",
   "metadata": {},
   "outputs": [],
   "source": [
    "# found z\n",
    "z = foundz(b, f, x12, x22)\n",
    "print(z)"
   ]
  },
  {
   "cell_type": "code",
   "execution_count": null,
   "id": "direct-proposal",
   "metadata": {},
   "outputs": [],
   "source": []
  }
 ],
 "metadata": {
  "kernelspec": {
   "display_name": "Python 3",
   "language": "python",
   "name": "python3"
  },
  "language_info": {
   "codemirror_mode": {
    "name": "ipython",
    "version": 3
   },
   "file_extension": ".py",
   "mimetype": "text/x-python",
   "name": "python",
   "nbconvert_exporter": "python",
   "pygments_lexer": "ipython3",
   "version": "3.7.10"
  }
 },
 "nbformat": 4,
 "nbformat_minor": 5
}
