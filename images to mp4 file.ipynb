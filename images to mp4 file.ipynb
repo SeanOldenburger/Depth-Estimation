{
 "cells": [
  {
   "cell_type": "markdown",
   "id": "ea31439d",
   "metadata": {},
   "source": [
    "## Images to mp4"
   ]
  },
  {
   "cell_type": "code",
   "execution_count": 56,
   "id": "33691620",
   "metadata": {},
   "outputs": [],
   "source": [
    "import cv2\n",
    "import os"
   ]
  },
  {
   "cell_type": "code",
   "execution_count": 59,
   "id": "eaa19c64",
   "metadata": {},
   "outputs": [],
   "source": [
    "image_folder = 'Mid-Air dataset/Video3/left'\n",
    "video_name = 'Mid-Air dataset/Video3/left_drone.mp4'"
   ]
  },
  {
   "cell_type": "code",
   "execution_count": 60,
   "id": "16a915a3",
   "metadata": {},
   "outputs": [],
   "source": [
    "images = [img for img in os.listdir(image_folder) if img.endswith(\".JPEG\")]\n",
    "frame = cv2.imread(os.path.join(image_folder, images[0]))\n",
    "height, width, layers = frame.shape\n",
    "\n",
    "fps = 25\n",
    "video = cv2.VideoWriter(video_name, 0, fps, (width,height))\n",
    "\n",
    "for image in images:\n",
    "    video.write(cv2.imread(os.path.join(image_folder, image)))\n",
    "\n",
    "cv2.destroyAllWindows()\n",
    "video.release()"
   ]
  },
  {
   "cell_type": "markdown",
   "id": "9166739d",
   "metadata": {},
   "source": [
    "## change fps of mp4"
   ]
  },
  {
   "cell_type": "code",
   "execution_count": 40,
   "id": "0d3899d5",
   "metadata": {},
   "outputs": [],
   "source": [
    "import cv2"
   ]
  },
  {
   "cell_type": "code",
   "execution_count": 66,
   "id": "d9e99ecf",
   "metadata": {},
   "outputs": [],
   "source": [
    "cap = cv2.VideoCapture('Mid-Air dataset/Video1/depth_drone.mp4')\n",
    "frame_width = int(cap.get(3))\n",
    "frame_height = int(cap.get(4))\n",
    "fps = 25\n",
    "writer = cv2.VideoWriter('Mid-Air dataset/Video1/depth_drone_redone.mp4', 0, fps, (frame_width,frame_height))\n",
    "\n",
    "while(cap.isOpened()):\n",
    "    ret, frame = cap.read()\n",
    "    if ret == True:\n",
    "        writer.write( frame)\n",
    "    else:\n",
    "        break\n",
    "\n",
    "writer.release()\n",
    "cap.release()"
   ]
  },
  {
   "cell_type": "code",
   "execution_count": null,
   "id": "d1e9cf8f",
   "metadata": {},
   "outputs": [],
   "source": []
  },
  {
   "cell_type": "code",
   "execution_count": null,
   "id": "c9e2d596",
   "metadata": {},
   "outputs": [],
   "source": []
  },
  {
   "cell_type": "markdown",
   "id": "a5d967cf",
   "metadata": {},
   "source": [
    "## Looking through sensor records"
   ]
  },
  {
   "cell_type": "code",
   "execution_count": 3,
   "id": "641f67fb",
   "metadata": {},
   "outputs": [],
   "source": [
    "import numpy as np\n",
    "import h5py"
   ]
  },
  {
   "cell_type": "code",
   "execution_count": 95,
   "id": "ce7472e6",
   "metadata": {},
   "outputs": [],
   "source": [
    "import numpy as np\n",
    "import h5py\n",
    "\n",
    "filename = \"Mid-Air dataset/Video1/sensor_records.hdf5\"\n",
    "\n",
    "with h5py.File(filename, \"r\") as f:\n",
    "    # Get the data\n",
    "    position = np.array(f['trajectory_0000']['groundtruth']['position'])\n",
    "    velocity = np.array(f['trajectory_0000']['groundtruth']['velocity'])\n",
    "    acceleration = np.array(f['trajectory_0000']['groundtruth']['acceleration'])"
   ]
  },
  {
   "cell_type": "code",
   "execution_count": null,
   "id": "8d4e2cc1",
   "metadata": {},
   "outputs": [],
   "source": []
  }
 ],
 "metadata": {
  "kernelspec": {
   "display_name": "Python 3 (ipykernel)",
   "language": "python",
   "name": "python3"
  },
  "language_info": {
   "codemirror_mode": {
    "name": "ipython",
    "version": 3
   },
   "file_extension": ".py",
   "mimetype": "text/x-python",
   "name": "python",
   "nbconvert_exporter": "python",
   "pygments_lexer": "ipython3",
   "version": "3.9.7"
  }
 },
 "nbformat": 4,
 "nbformat_minor": 5
}
