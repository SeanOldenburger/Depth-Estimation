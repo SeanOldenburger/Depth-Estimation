{
 "cells": [
  {
   "cell_type": "code",
   "execution_count": 5,
   "id": "3da8d0f1",
   "metadata": {},
   "outputs": [],
   "source": [
    "import numpy as np\n",
    "import cv2\n",
    "import matplotlib.pyplot as plt"
   ]
  },
  {
   "cell_type": "code",
   "execution_count": 6,
   "id": "3f932614",
   "metadata": {},
   "outputs": [],
   "source": [
    "# load in data\n",
    "left_data = np.load(\"vid3(7).npy\")"
   ]
  },
  {
   "cell_type": "code",
   "execution_count": 7,
   "id": "ae6fc738",
   "metadata": {},
   "outputs": [],
   "source": [
    "# write data to .mp4\n",
    "size = (2720, 1530) #(640, 480)\n",
    "fps = 59.0 #30.0\n",
    "outL = cv2.VideoWriter('drone_footage_stabilized.mp4', cv2.VideoWriter_fourcc(*'MP42'), fps, size)\n",
    "#outR = cv2.VideoWriter('everywhere_r-tracked.mp4', cv2.VideoWriter_fourcc(*'MP42'), fps, size)\n",
    "\n",
    "# left video\n",
    "for i in range(len(left_data)):\n",
    "    outL.write(left_data[i])\n",
    "outL.release()\n",
    "\n",
    "# right video\n",
    "#for i in range(len(right_data)):\n",
    "#    outR.write(right_data[i])\n",
    "#outR.release()"
   ]
  },
  {
   "cell_type": "code",
   "execution_count": null,
   "id": "94988dc2",
   "metadata": {},
   "outputs": [],
   "source": []
  }
 ],
 "metadata": {
  "kernelspec": {
   "display_name": "Python 3 (ipykernel)",
   "language": "python",
   "name": "python3"
  },
  "language_info": {
   "codemirror_mode": {
    "name": "ipython",
    "version": 3
   },
   "file_extension": ".py",
   "mimetype": "text/x-python",
   "name": "python",
   "nbconvert_exporter": "python",
   "pygments_lexer": "ipython3",
   "version": "3.9.7"
  }
 },
 "nbformat": 4,
 "nbformat_minor": 5
}
